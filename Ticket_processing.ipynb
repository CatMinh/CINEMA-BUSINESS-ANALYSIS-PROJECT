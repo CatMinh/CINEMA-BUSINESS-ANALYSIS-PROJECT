{
  "nbformat": 4,
  "nbformat_minor": 0,
  "metadata": {
    "colab": {
      "provenance": []
    },
    "kernelspec": {
      "name": "python3",
      "display_name": "Python 3"
    },
    "language_info": {
      "name": "python"
    }
  },
  "cells": [
    {
      "cell_type": "code",
      "execution_count": null,
      "metadata": {
        "id": "gWxvkAfE9fyR"
      },
      "outputs": [],
      "source": [
        "import pandas as pd\n",
        "import numpy as np\n",
        "import matplotlib.pyplot as plt\n",
        "import seaborn as sns"
      ]
    },
    {
      "cell_type": "code",
      "source": [
        "from google.colab import drive\n",
        "drive.mount('/content/drive')"
      ],
      "metadata": {
        "colab": {
          "base_uri": "https://localhost:8080/"
        },
        "id": "LRxOWp649naJ",
        "outputId": "122991d0-002c-4015-ad9f-287b9f32037a"
      },
      "execution_count": null,
      "outputs": [
        {
          "output_type": "stream",
          "name": "stdout",
          "text": [
            "Drive already mounted at /content/drive; to attempt to forcibly remount, call drive.mount(\"/content/drive\", force_remount=True).\n"
          ]
        }
      ]
    },
    {
      "cell_type": "code",
      "source": [
        "# Assuming you have already mounted your Google Drive as shown in your provided code\n",
        "df = pd.read_excel('/content/drive/MyDrive/BI/processed_ticket.xlsx')\n",
        "\n",
        "# Now you can work with the DataFrame 'df'\n",
        "# Example: Print the first 5 rows\n",
        "print(df.head())"
      ],
      "metadata": {
        "colab": {
          "base_uri": "https://localhost:8080/"
        },
        "id": "JciDPdmk9w9e",
        "outputId": "235165bb-47ef-4d79-c7d6-bc01a690c875"
      },
      "execution_count": null,
      "outputs": [
        {
          "output_type": "stream",
          "name": "stdout",
          "text": [
            "            orderid cashier            saledate  total  customerid  \\\n",
            "0  10006052019B0225  emp002 2019-05-06 16:40:43  90000  0000000014   \n",
            "1  10006052019B0225  emp002 2019-05-06 16:40:43  90000  0000000014   \n",
            "2  10022052019B0167  emp011 2019-05-22 20:30:28  90000  0000000034   \n",
            "3  10022052019B0167  emp011 2019-05-22 20:30:28  90000  0000000034   \n",
            "4  10130052019B0141  emp005 2019-05-30 19:28:44  90000  0000000034   \n",
            "\n",
            "   ticketcode       date      time slot  room  \\\n",
            "0    20074925 2019-05-06  18:15:00  G04     3   \n",
            "1    20074924 2019-05-06  18:15:00  G03     3   \n",
            "2    20097042 2019-05-22  20:45:00  E04     2   \n",
            "3    20097041 2019-05-22  20:45:00  E03     2   \n",
            "4    20106761 2019-05-30  19:30:00  F04     1   \n",
            "\n",
            "                                      film slot type ticket type  \\\n",
            "0                        AVENGERS: HỒI KẾT       ĐƠN  Thành viên   \n",
            "1                        AVENGERS: HỒI KẾT       ĐƠN  Thành viên   \n",
            "2  JOHN WICK 3: CHUẨN BỊ CHIẾN TRANH (C18)       ĐƠN  Thành viên   \n",
            "3  JOHN WICK 3: CHUẨN BỊ CHIẾN TRANH (C18)       ĐƠN  Thành viên   \n",
            "4                   NGÔI ĐỀN KỲ QUÁI (C18)       ĐƠN  Thành viên   \n",
            "\n",
            "   ticket price popcorn  \n",
            "0         45000   Không  \n",
            "1         45000   Không  \n",
            "2         45000   Không  \n",
            "3         45000   Không  \n",
            "4         45000   Không  \n"
          ]
        }
      ]
    },
    {
      "cell_type": "code",
      "source": [
        "df.info()"
      ],
      "metadata": {
        "colab": {
          "base_uri": "https://localhost:8080/"
        },
        "id": "lojZ0L2xCm4S",
        "outputId": "befe364a-e20c-4505-a1bf-fe3c23aaca25"
      },
      "execution_count": null,
      "outputs": [
        {
          "output_type": "stream",
          "name": "stdout",
          "text": [
            "<class 'pandas.core.frame.DataFrame'>\n",
            "RangeIndex: 35474 entries, 0 to 35473\n",
            "Data columns (total 15 columns):\n",
            " #   Column        Non-Null Count  Dtype         \n",
            "---  ------        --------------  -----         \n",
            " 0   orderid       35474 non-null  object        \n",
            " 1   cashier       35474 non-null  object        \n",
            " 2   saledate      35378 non-null  datetime64[ns]\n",
            " 3   total         35474 non-null  int64         \n",
            " 4   customerid    35474 non-null  object        \n",
            " 5   ticketcode    35474 non-null  int64         \n",
            " 6   date          35474 non-null  datetime64[ns]\n",
            " 7   time          35474 non-null  object        \n",
            " 8   slot          35474 non-null  object        \n",
            " 9   room          35474 non-null  int64         \n",
            " 10  film          35474 non-null  object        \n",
            " 11  slot type     35474 non-null  object        \n",
            " 12  ticket type   35474 non-null  object        \n",
            " 13  ticket price  35474 non-null  int64         \n",
            " 14  popcorn       35378 non-null  object        \n",
            "dtypes: datetime64[ns](2), int64(4), object(9)\n",
            "memory usage: 4.1+ MB\n"
          ]
        }
      ]
    },
    {
      "cell_type": "code",
      "source": [
        "df = df[df['orderid'].notnull()]"
      ],
      "metadata": {
        "id": "q54XfCPPBGDn"
      },
      "execution_count": null,
      "outputs": []
    },
    {
      "cell_type": "code",
      "source": [
        "import pandas as pd\n",
        "import numpy as np\n",
        "import random\n",
        "import string\n",
        "\n",
        "# Giả sử df đã được đọc từ file\n",
        "# df = pd.read_csv(\"data.csv\")\n",
        "\n",
        "# Chỉ giữ lại các cột cần thiết\n",
        "df_selected = df[['orderid', 'cashier', 'saledate', 'customerid', 'date', 'time', 'room', 'film', 'ticketcode', 'slot', 'ticket price', 'total', 'popcorn','slot type','ticket type']]\n",
        "\n",
        "# Tính tổng giá vé theo orderid\n",
        "total_ticket_price = df_selected.groupby('orderid')['ticket price'].sum().reset_index()\n",
        "total_ticket_price.rename(columns={'ticket price': 'total_ticket_price'}, inplace=True)\n",
        "\n",
        "# Merge tổng giá vé vào df_selected\n",
        "df_selected = df_selected.merge(total_ticket_price, on='orderid', how='left')\n",
        "\n",
        "# Tính chênh lệch\n",
        "df_selected['difference'] = df_selected['total'] - df_selected['total_ticket_price']\n",
        "\n",
        "df_selected['discount'] = 0  # Khởi tạo cột discount\n",
        "df_selected['have_discount'] = \"Không\"  # Mặc định là \"Không\"\n",
        "\n",
        "# Xác định các mức cần thêm dòng mới\n",
        "adjustment_values = [45000, 90000, 75000, 160000]\n",
        "\n",
        "def generate_unique_slot(existing_slots):\n",
        "    while True:\n",
        "        row = random.choice(string.ascii_uppercase[:8])  # Chọn ngẫu nhiên từ A-H\n",
        "        number = random.randint(1, 17)  # Chọn số từ 1 đến 17\n",
        "        new_slot = f\"{row}{number}\"\n",
        "        if new_slot not in existing_slots:\n",
        "            return new_slot\n",
        "\n",
        "# Danh sách chứa dữ liệu cần thêm\n",
        "new_rows = []\n",
        "\n",
        "for _, row in df_selected.iterrows():\n",
        "    if row['difference'] in adjustment_values:\n",
        "        existing_slots = df_selected[(df_selected['date'] == row['date']) &\n",
        "                                     (df_selected['time'] == row['time']) &\n",
        "                                     (df_selected['room'] == row['room']) &\n",
        "                                     (df_selected['film'] == row['film'])]['slot'].tolist()\n",
        "\n",
        "        new_rows.append({\n",
        "            'orderid': row['orderid'],\n",
        "            'cashier': row['cashier'],\n",
        "            'saledate': row['saledate'],\n",
        "            'customerid': row['customerid'],\n",
        "            'date': row['date'],\n",
        "            'time': row['time'],\n",
        "            'room': row['room'],\n",
        "            'film': row['film'],\n",
        "            'ticket type': row['ticket type'],\n",
        "            'slot type': row['slot type'],\n",
        "            'ticketcode': np.random.randint(10000, 99999),\n",
        "            'slot': generate_unique_slot(existing_slots),\n",
        "            'ticket price': row['difference'],\n",
        "            'total': row['total'],\n",
        "            'popcorn': row['popcorn'],\n",
        "            'total_ticket_price': row['total_ticket_price'],\n",
        "            'difference': row['difference'],\n",
        "            'discount': 0,\n",
        "            'have_discount': \"Không\"\n",
        "        })\n",
        "    elif row['difference'] == 225000:\n",
        "        additional_tickets = []\n",
        "        remaining_discount = 225000\n",
        "        while remaining_discount > 0:\n",
        "            ticket_price = 75000 if remaining_discount >= 75000 else 45000\n",
        "            remaining_discount -= ticket_price\n",
        "            existing_slots = df_selected[(df_selected['date'] == row['date']) &\n",
        "                                         (df_selected['time'] == row['time']) &\n",
        "                                         (df_selected['room'] == row['room']) &\n",
        "                                         (df_selected['film'] == row['film'])]['slot'].tolist()\n",
        "            additional_tickets.append({\n",
        "                'orderid': row['orderid'],\n",
        "                'cashier': row['cashier'],\n",
        "                'saledate': row['saledate'],\n",
        "                'customerid': row['customerid'],\n",
        "                'date': row['date'],\n",
        "                'time': row['time'],\n",
        "                'room': row['room'],\n",
        "                'film': row['film'],\n",
        "                'ticketcode': np.random.randint(10000, 99999),\n",
        "                'slot': generate_unique_slot(existing_slots),\n",
        "                'ticket price': ticket_price,\n",
        "                'total': row['total'],\n",
        "                'popcorn': row['popcorn'],\n",
        "                'total_ticket_price': row['total_ticket_price'],\n",
        "                'difference': row['difference'],\n",
        "                'discount': 0,\n",
        "                'have_discount': \"Không\"\n",
        "            })\n",
        "        new_rows.extend(additional_tickets)\n",
        "    elif row['difference'] != 0:\n",
        "        df_selected.loc[df_selected['orderid'] == row['orderid'], 'discount'] = row['difference']\n",
        "        df_selected.loc[df_selected['orderid'] == row['orderid'], 'have_discount'] = \"Có\"\n",
        "\n",
        "# Tạo DataFrame từ danh sách mới và thêm vào df_selected\n",
        "if new_rows:\n",
        "    df_new = pd.DataFrame(new_rows)\n",
        "    df_selected = pd.concat([df_selected, df_new], ignore_index=True)\n",
        "\n",
        "# Xuất kết quả\n",
        "# df_selected.to_csv(\"output.csv\", index=False)\n",
        "print(df_selected.head())\n"
      ],
      "metadata": {
        "colab": {
          "base_uri": "https://localhost:8080/"
        },
        "id": "RWpP2m7LN11-",
        "outputId": "499a2fca-3eac-4ba7-e38a-cf5918f55ff0"
      },
      "execution_count": null,
      "outputs": [
        {
          "output_type": "stream",
          "name": "stdout",
          "text": [
            "            orderid cashier            saledate  customerid       date  \\\n",
            "0  10006052019B0225  emp002 2019-05-06 16:40:43  0000000014 2019-05-06   \n",
            "1  10006052019B0225  emp002 2019-05-06 16:40:43  0000000014 2019-05-06   \n",
            "2  10022052019B0167  emp011 2019-05-22 20:30:28  0000000034 2019-05-22   \n",
            "3  10022052019B0167  emp011 2019-05-22 20:30:28  0000000034 2019-05-22   \n",
            "4  10130052019B0141  emp005 2019-05-30 19:28:44  0000000034 2019-05-30   \n",
            "\n",
            "       time  room                                     film  ticketcode slot  \\\n",
            "0  18:15:00     3                        AVENGERS: HỒI KẾT    20074925  G04   \n",
            "1  18:15:00     3                        AVENGERS: HỒI KẾT    20074924  G03   \n",
            "2  20:45:00     2  JOHN WICK 3: CHUẨN BỊ CHIẾN TRANH (C18)    20097042  E04   \n",
            "3  20:45:00     2  JOHN WICK 3: CHUẨN BỊ CHIẾN TRANH (C18)    20097041  E03   \n",
            "4  19:30:00     1                   NGÔI ĐỀN KỲ QUÁI (C18)    20106761  F04   \n",
            "\n",
            "   ticket price  total popcorn slot type ticket type  total_ticket_price  \\\n",
            "0         45000  90000   Không       ĐƠN  Thành viên               90000   \n",
            "1         45000  90000   Không       ĐƠN  Thành viên               90000   \n",
            "2         45000  90000   Không       ĐƠN  Thành viên               90000   \n",
            "3         45000  90000   Không       ĐƠN  Thành viên               90000   \n",
            "4         45000  90000   Không       ĐƠN  Thành viên               90000   \n",
            "\n",
            "   difference  discount have_discount  \n",
            "0           0         0         Không  \n",
            "1           0         0         Không  \n",
            "2           0         0         Không  \n",
            "3           0         0         Không  \n",
            "4           0         0         Không  \n"
          ]
        }
      ]
    },
    {
      "cell_type": "code",
      "source": [
        "# Loại bỏ dấu chấm ở cuối các giá trị trong cột customerid\n",
        "df_selected['customerid'] = df_selected['customerid'].astype(str).str.rstrip('.')\n",
        "\n",
        "# Remove columns 'difference' and 'total_ticket_price'\n",
        "df_selected = df_selected.drop(['difference', 'total_ticket_price'], axis=1)\n",
        "\n",
        "# Xuất file vào /content/drive/MyDrive/BI/\n",
        "df_selected.to_excel('/content/drive/MyDrive/BI/processed_ticket_cleaned.xlsx', index=False)"
      ],
      "metadata": {
        "id": "xG54q7fjF2jY"
      },
      "execution_count": null,
      "outputs": []
    },
    {
      "cell_type": "code",
      "source": [],
      "metadata": {
        "id": "kUNwDRLlTQRF"
      },
      "execution_count": null,
      "outputs": []
    }
  ]
}